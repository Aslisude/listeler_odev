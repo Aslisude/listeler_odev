{
 "cells": [
  {
   "cell_type": "markdown",
   "id": "f4d5391d-73be-4d0a-a17f-daa2f3a93242",
   "metadata": {},
   "source": [
    "**Ödev-1:** Aşağıdaki işlemleri indexing ve slicing kullanarak liste üzerinde uygulayın."
   ]
  },
  {
   "cell_type": "markdown",
   "id": "5549b26a-6410-4248-9e1a-d5353fa82db1",
   "metadata": {},
   "source": [
    "+ \"3\" değerine ulaşmak için indexleme yapın.\n",
    "\n",
    "+ \"Hi-Kod\" değerine ulaşmak için indexleme yapın.\n",
    "\n",
    "+ 4.7 değerine ulaşmak için indexleme yapın.\n",
    "\n",
    "+ 9,\"3\",8.4,\"Hi-Kod\" değerlerine ulaşmak için slicing yapın.\n",
    "\n",
    "+ 8.4,\"Hi-Kod\",\"False\",4.7 değerlerine ulaşmak için slicing yapın."
   ]
  },
  {
   "cell_type": "code",
   "execution_count": 3,
   "id": "dc58a717-65e0-4a27-a4cc-4e888437a73d",
   "metadata": {},
   "outputs": [],
   "source": [
    "liste = [\"Python\",True,9,\"3\",8.4,\"Hi-Kod\",\"False\",4.7]"
   ]
  },
  {
   "cell_type": "code",
   "execution_count": 4,
   "id": "249605ba-7ef7-4924-bfb3-e62951a224ec",
   "metadata": {},
   "outputs": [
    {
     "data": {
      "text/plain": [
       "'3'"
      ]
     },
     "execution_count": 4,
     "metadata": {},
     "output_type": "execute_result"
    }
   ],
   "source": [
    "liste[3]"
   ]
  },
  {
   "cell_type": "code",
   "execution_count": 5,
   "id": "21f257ab-9cd3-459f-9a19-6e6dd78e1a8e",
   "metadata": {},
   "outputs": [
    {
     "data": {
      "text/plain": [
       "'Hi-Kod'"
      ]
     },
     "execution_count": 5,
     "metadata": {},
     "output_type": "execute_result"
    }
   ],
   "source": [
    "liste[-3]"
   ]
  },
  {
   "cell_type": "code",
   "execution_count": 6,
   "id": "6c9cd11d-0d9f-4a56-a1ab-c2b4f554bf7f",
   "metadata": {},
   "outputs": [
    {
     "data": {
      "text/plain": [
       "4.7"
      ]
     },
     "execution_count": 6,
     "metadata": {},
     "output_type": "execute_result"
    }
   ],
   "source": [
    "liste[-1]"
   ]
  },
  {
   "cell_type": "code",
   "execution_count": 8,
   "id": "4281b71f-cdd1-4eb9-b189-a891c0f4346d",
   "metadata": {},
   "outputs": [
    {
     "data": {
      "text/plain": [
       "[9, '3', 8.4, 'Hi-Kod']"
      ]
     },
     "execution_count": 8,
     "metadata": {},
     "output_type": "execute_result"
    }
   ],
   "source": [
    "liste[2:6]"
   ]
  },
  {
   "cell_type": "code",
   "execution_count": 9,
   "id": "40fece69-b249-4ebc-a37e-6553fa92809b",
   "metadata": {},
   "outputs": [
    {
     "data": {
      "text/plain": [
       "[8.4, 'Hi-Kod', 'False', 4.7]"
      ]
     },
     "execution_count": 9,
     "metadata": {},
     "output_type": "execute_result"
    }
   ],
   "source": [
    "liste[4:]"
   ]
  },
  {
   "cell_type": "markdown",
   "id": "655fcf61-d52d-4875-a51e-ac1a56a1c4c5",
   "metadata": {},
   "source": [
    "**Ödev-2:** Verilen listede bulunan string veri tipindeki öğeleri yeni_liste isimli listeye eklenir."
   ]
  },
  {
   "cell_type": "code",
   "execution_count": 34,
   "id": "83cbdc7a-9473-4de7-852b-49506191e037",
   "metadata": {},
   "outputs": [
    {
     "name": "stdout",
     "output_type": "stream",
     "text": [
      "['Python', '3', 'Hi-Kod', 'False']\n"
     ]
    }
   ],
   "source": [
    "liste = [\"Python\",True,9,\"3\",8.4,\"Hi-Kod\",\"False\",4.7]\n",
    "yeni_liste=[]\n",
    "for i in liste:\n",
    "    if type(i)==str:\n",
    "        yeni_liste.append(i)\n",
    "\n",
    "print(yeni_liste)"
   ]
  },
  {
   "cell_type": "markdown",
   "id": "8cb87b77-378e-4540-a124-f7e7eecc5fb8",
   "metadata": {},
   "source": [
    "**Ödev-3:** Enumerate methodunu araştırın ve aşağıdaki örneği enumerate methodu ile yapın."
   ]
  },
  {
   "cell_type": "markdown",
   "id": "3c465d39-814f-464a-9cfb-a608169782f7",
   "metadata": {},
   "source": [
    "her ögeye ek bir indeks numarası ekliyormuş. listedeki ögeleri ve indeks numaralarını kullanmak istediğimizde işe yarayacak bir method."
   ]
  },
  {
   "cell_type": "code",
   "execution_count": 35,
   "id": "f7141a4b-18f4-4892-a7fa-47b0705115fc",
   "metadata": {},
   "outputs": [
    {
     "name": "stdout",
     "output_type": "stream",
     "text": [
      "0. indexte bulunan meyve: elma\n",
      "1. indexte bulunan meyve: armut\n",
      "2. indexte bulunan meyve: çilek\n",
      "3. indexte bulunan meyve: muz\n"
     ]
    }
   ],
   "source": [
    "meyveler = [\"elma\", \"armut\", \"çilek\", \"muz\"]\n",
    "\n",
    "for index, meyve in enumerate(meyveler):\n",
    "    print(\"{}. indexte bulunan meyve: {}\".format(index, meyve))"
   ]
  }
 ],
 "metadata": {
  "kernelspec": {
   "display_name": "Python 3 (ipykernel)",
   "language": "python",
   "name": "python3"
  },
  "language_info": {
   "codemirror_mode": {
    "name": "ipython",
    "version": 3
   },
   "file_extension": ".py",
   "mimetype": "text/x-python",
   "name": "python",
   "nbconvert_exporter": "python",
   "pygments_lexer": "ipython3",
   "version": "3.11.7"
  }
 },
 "nbformat": 4,
 "nbformat_minor": 5
}
